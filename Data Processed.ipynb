{
 "cells": [
  {
   "cell_type": "code",
   "execution_count": 97,
   "id": "9d915b9e-b41d-4362-95c1-33b6cfe1110a",
   "metadata": {},
   "outputs": [
    {
     "name": "stderr",
     "output_type": "stream",
     "text": [
      "WARNING: pip is being invoked by an old script wrapper. This will fail in a future version of pip.\n",
      "Please see https://github.com/pypa/pip/issues/5599 for advice on fixing the underlying issue.\n",
      "To avoid this problem you can invoke Python with '-m pip' instead of running pip directly.\n"
     ]
    },
    {
     "data": {
      "text/html": [
       "<pre style=\"white-space:pre;overflow-x:auto;line-height:normal;font-family:Menlo,'DejaVu Sans Mono',consolas,'Courier New',monospace\">Collecting google.cloud\n",
       "</pre>\n"
      ],
      "text/plain": [
       "Collecting google.cloud\n"
      ]
     },
     "metadata": {},
     "output_type": "display_data"
    },
    {
     "data": {
      "text/html": [
       "<pre style=\"white-space:pre;overflow-x:auto;line-height:normal;font-family:Menlo,'DejaVu Sans Mono',consolas,'Courier New',monospace\">  Using cached google_cloud-0.34.0-py2.py3-none-any.whl (1.8 kB)\n",
       "</pre>\n"
      ],
      "text/plain": [
       "  Using cached google_cloud-0.34.0-py2.py3-none-any.whl (1.8 kB)\n"
      ]
     },
     "metadata": {},
     "output_type": "display_data"
    },
    {
     "data": {
      "text/html": [
       "<pre style=\"white-space:pre;overflow-x:auto;line-height:normal;font-family:Menlo,'DejaVu Sans Mono',consolas,'Courier New',monospace\">Installing collected packages: google.cloud\n",
       "</pre>\n"
      ],
      "text/plain": [
       "Installing collected packages: google.cloud\n"
      ]
     },
     "metadata": {},
     "output_type": "display_data"
    },
    {
     "data": {
      "text/html": [
       "<pre style=\"white-space:pre;overflow-x:auto;line-height:normal;font-family:Menlo,'DejaVu Sans Mono',consolas,'Courier New',monospace\">Successfully installed google.cloud-0.34.0\n",
       "</pre>\n"
      ],
      "text/plain": [
       "Successfully installed google.cloud-0.34.0\n"
      ]
     },
     "metadata": {},
     "output_type": "display_data"
    },
    {
     "data": {
      "text/html": [
       "<pre style=\"white-space:pre;overflow-x:auto;line-height:normal;font-family:Menlo,'DejaVu Sans Mono',consolas,'Courier New',monospace\"><span style=\"color: #808000; text-decoration-color: #808000\">WARNING: Running pip as the 'root' user can result in broken permissions and conflicting behaviour with the system package manager. It is recommended to use a virtual environment instead: https://pip.pypa.io/warnings/venv\n",
       "</span></pre>\n"
      ],
      "text/plain": [
       "\u001b[33mWARNING: Running pip as the 'root' user can result in broken permissions and conflicting behaviour with the system package manager. It is recommended to use a virtual environment instead: https://pip.pypa.io/warnings/venv\u001b[0m\u001b[33m\n",
       "\u001b[0m"
      ]
     },
     "metadata": {},
     "output_type": "display_data"
    },
    {
     "data": {
      "text/plain": [
       "0"
      ]
     },
     "execution_count": 97,
     "metadata": {},
     "output_type": "execute_result"
    }
   ],
   "source": [
    "import pip\n",
    "pip.main([\"install\", \"google.cloud\"])"
   ]
  },
  {
   "cell_type": "code",
   "execution_count": 98,
   "id": "fee6d960-edfb-4aa0-91bb-bc4a001b31d7",
   "metadata": {},
   "outputs": [],
   "source": [
    "import numpy as np # linear algebra\n",
    "import pandas as pd # data processing, CSV file I/O (e.g. pd.read_csv)\n",
    "import seaborn as sns\n",
    "import matplotlib.pyplot as plt \n",
    "import datetime\n",
    "import time\n",
    "from sklearn import preprocessing\n",
    "from sklearn.preprocessing import StandardScaler"
   ]
  },
  {
   "cell_type": "code",
   "execution_count": 99,
   "id": "2bdc0b62-747a-47c2-857d-bfcdab1babbe",
   "metadata": {},
   "outputs": [],
   "source": [
    "data = pd.read_csv('gs://fraud-raw-data/bank_transactions.csv')"
   ]
  },
  {
   "cell_type": "code",
   "execution_count": 100,
   "id": "e4a40f0b-75ae-4c18-b767-5a7157f35106",
   "metadata": {},
   "outputs": [
    {
     "data": {
      "text/html": [
       "<div>\n",
       "<style scoped>\n",
       "    .dataframe tbody tr th:only-of-type {\n",
       "        vertical-align: middle;\n",
       "    }\n",
       "\n",
       "    .dataframe tbody tr th {\n",
       "        vertical-align: top;\n",
       "    }\n",
       "\n",
       "    .dataframe thead th {\n",
       "        text-align: right;\n",
       "    }\n",
       "</style>\n",
       "<table border=\"1\" class=\"dataframe\">\n",
       "  <thead>\n",
       "    <tr style=\"text-align: right;\">\n",
       "      <th></th>\n",
       "      <th>TransactionID</th>\n",
       "      <th>CustomerID</th>\n",
       "      <th>CustomerDOB</th>\n",
       "      <th>CustGender</th>\n",
       "      <th>CustLocation</th>\n",
       "      <th>CustAccountBalance</th>\n",
       "      <th>TransactionDate</th>\n",
       "      <th>TransactionTime</th>\n",
       "      <th>TransactionAmount (INR)</th>\n",
       "    </tr>\n",
       "  </thead>\n",
       "  <tbody>\n",
       "    <tr>\n",
       "      <th>0</th>\n",
       "      <td>T1</td>\n",
       "      <td>C5841053</td>\n",
       "      <td>10/1/94</td>\n",
       "      <td>F</td>\n",
       "      <td>JAMSHEDPUR</td>\n",
       "      <td>17819.05</td>\n",
       "      <td>2/8/16</td>\n",
       "      <td>143207</td>\n",
       "      <td>25.0</td>\n",
       "    </tr>\n",
       "    <tr>\n",
       "      <th>1</th>\n",
       "      <td>T2</td>\n",
       "      <td>C2142763</td>\n",
       "      <td>4/4/57</td>\n",
       "      <td>M</td>\n",
       "      <td>JHAJJAR</td>\n",
       "      <td>2270.69</td>\n",
       "      <td>2/8/16</td>\n",
       "      <td>141858</td>\n",
       "      <td>27999.0</td>\n",
       "    </tr>\n",
       "    <tr>\n",
       "      <th>2</th>\n",
       "      <td>T3</td>\n",
       "      <td>C4417068</td>\n",
       "      <td>26/11/96</td>\n",
       "      <td>F</td>\n",
       "      <td>MUMBAI</td>\n",
       "      <td>17874.44</td>\n",
       "      <td>2/8/16</td>\n",
       "      <td>142712</td>\n",
       "      <td>459.0</td>\n",
       "    </tr>\n",
       "    <tr>\n",
       "      <th>3</th>\n",
       "      <td>T4</td>\n",
       "      <td>C5342380</td>\n",
       "      <td>14/9/73</td>\n",
       "      <td>F</td>\n",
       "      <td>MUMBAI</td>\n",
       "      <td>866503.21</td>\n",
       "      <td>2/8/16</td>\n",
       "      <td>142714</td>\n",
       "      <td>2060.0</td>\n",
       "    </tr>\n",
       "    <tr>\n",
       "      <th>4</th>\n",
       "      <td>T5</td>\n",
       "      <td>C9031234</td>\n",
       "      <td>24/3/88</td>\n",
       "      <td>F</td>\n",
       "      <td>NAVI MUMBAI</td>\n",
       "      <td>6714.43</td>\n",
       "      <td>2/8/16</td>\n",
       "      <td>181156</td>\n",
       "      <td>1762.5</td>\n",
       "    </tr>\n",
       "  </tbody>\n",
       "</table>\n",
       "</div>"
      ],
      "text/plain": [
       "  TransactionID CustomerID CustomerDOB CustGender CustLocation  \\\n",
       "0            T1   C5841053     10/1/94          F   JAMSHEDPUR   \n",
       "1            T2   C2142763      4/4/57          M      JHAJJAR   \n",
       "2            T3   C4417068    26/11/96          F       MUMBAI   \n",
       "3            T4   C5342380     14/9/73          F       MUMBAI   \n",
       "4            T5   C9031234     24/3/88          F  NAVI MUMBAI   \n",
       "\n",
       "   CustAccountBalance TransactionDate  TransactionTime  \\\n",
       "0            17819.05          2/8/16           143207   \n",
       "1             2270.69          2/8/16           141858   \n",
       "2            17874.44          2/8/16           142712   \n",
       "3           866503.21          2/8/16           142714   \n",
       "4             6714.43          2/8/16           181156   \n",
       "\n",
       "   TransactionAmount (INR)  \n",
       "0                     25.0  \n",
       "1                  27999.0  \n",
       "2                    459.0  \n",
       "3                   2060.0  \n",
       "4                   1762.5  "
      ]
     },
     "execution_count": 100,
     "metadata": {},
     "output_type": "execute_result"
    }
   ],
   "source": [
    "data.head()"
   ]
  },
  {
   "cell_type": "code",
   "execution_count": 101,
   "id": "15b0917b-f08d-4e91-a0fb-956e5feca15f",
   "metadata": {},
   "outputs": [
    {
     "data": {
      "text/plain": [
       "(1048567, 9)"
      ]
     },
     "execution_count": 101,
     "metadata": {},
     "output_type": "execute_result"
    }
   ],
   "source": [
    "data.shape"
   ]
  },
  {
   "cell_type": "code",
   "execution_count": 102,
   "id": "37d14610-c7e1-4d04-b7ac-cd99d76a7988",
   "metadata": {},
   "outputs": [
    {
     "name": "stdout",
     "output_type": "stream",
     "text": [
      "<class 'pandas.core.frame.DataFrame'>\n",
      "RangeIndex: 1048567 entries, 0 to 1048566\n",
      "Data columns (total 9 columns):\n",
      " #   Column                   Non-Null Count    Dtype  \n",
      "---  ------                   --------------    -----  \n",
      " 0   TransactionID            1048567 non-null  object \n",
      " 1   CustomerID               1048567 non-null  object \n",
      " 2   CustomerDOB              1045170 non-null  object \n",
      " 3   CustGender               1047467 non-null  object \n",
      " 4   CustLocation             1048416 non-null  object \n",
      " 5   CustAccountBalance       1046198 non-null  float64\n",
      " 6   TransactionDate          1048567 non-null  object \n",
      " 7   TransactionTime          1048567 non-null  int64  \n",
      " 8   TransactionAmount (INR)  1048567 non-null  float64\n",
      "dtypes: float64(2), int64(1), object(6)\n",
      "memory usage: 72.0+ MB\n"
     ]
    }
   ],
   "source": [
    "data.info()"
   ]
  },
  {
   "cell_type": "code",
   "execution_count": 103,
   "id": "d36765e4-66d8-4787-bd77-34b2c7654917",
   "metadata": {},
   "outputs": [
    {
     "data": {
      "text/plain": [
       "TransactionID                 0\n",
       "CustomerID                    0\n",
       "CustomerDOB                3397\n",
       "CustGender                 1100\n",
       "CustLocation                151\n",
       "CustAccountBalance         2369\n",
       "TransactionDate               0\n",
       "TransactionTime               0\n",
       "TransactionAmount (INR)       0\n",
       "dtype: int64"
      ]
     },
     "execution_count": 103,
     "metadata": {},
     "output_type": "execute_result"
    }
   ],
   "source": [
    "data.isna().sum()"
   ]
  },
  {
   "cell_type": "code",
   "execution_count": 104,
   "id": "b3a5e659-0d07-45bb-af69-04a8216716a2",
   "metadata": {},
   "outputs": [],
   "source": [
    "data.dropna(axis=0,inplace = True)"
   ]
  },
  {
   "cell_type": "code",
   "execution_count": 105,
   "id": "b1d8e630-f9ea-4d0e-a448-b5111066e697",
   "metadata": {},
   "outputs": [],
   "source": [
    "data['CustomerDOB'] = pd.to_datetime(data['CustomerDOB'], dayfirst=True)"
   ]
  },
  {
   "cell_type": "code",
   "execution_count": 106,
   "id": "8eb5921b-8b19-4e7e-adc4-642d2398d5d7",
   "metadata": {},
   "outputs": [],
   "source": [
    "data['TransactionDate'] = pd.to_datetime(data['TransactionDate'], dayfirst=True)"
   ]
  },
  {
   "cell_type": "code",
   "execution_count": 107,
   "id": "be1b8982-6057-48bc-a46a-fae8abf05ce5",
   "metadata": {},
   "outputs": [],
   "source": [
    "def fix_date(x):\n",
    "    if (x.year > 2023) or (x.year < 1972):\n",
    "        year = x.year - 100\n",
    "    else:\n",
    "        year = x.year\n",
    "    return datetime.date(year,x.month,x.day)"
   ]
  },
  {
   "cell_type": "code",
   "execution_count": 108,
   "id": "fa5af638-0707-46fd-bb93-bffb3e066c2e",
   "metadata": {},
   "outputs": [],
   "source": [
    "data['CustomerDOB'] = data['CustomerDOB'].apply(fix_date)\n",
    "data['TransactionDate'] = data['TransactionDate'].apply(fix_date)"
   ]
  },
  {
   "cell_type": "code",
   "execution_count": 109,
   "id": "45192b47-e0ac-4690-8e8c-535ad24f66b6",
   "metadata": {},
   "outputs": [],
   "source": [
    "data['Age']=(data['TransactionDate'].values-data['CustomerDOB'].values)/365"
   ]
  },
  {
   "cell_type": "code",
   "execution_count": 110,
   "id": "b48a913c-65ee-4e85-b165-95765966558a",
   "metadata": {},
   "outputs": [],
   "source": [
    "def years(x):\n",
    "    return x.days"
   ]
  },
  {
   "cell_type": "code",
   "execution_count": 111,
   "id": "ee9977a1-d33e-4ae3-855d-5dc146fda493",
   "metadata": {},
   "outputs": [],
   "source": [
    "data['Age']=data['Age'].apply(years)"
   ]
  },
  {
   "cell_type": "code",
   "execution_count": 112,
   "id": "231bc67e-9d79-4e5c-a667-ce79e412c21e",
   "metadata": {},
   "outputs": [],
   "source": [
    "numeric = ['CustAccountBalance','TransactionAmount (INR)','Age']\n",
    "datatime = ['CustomerDOB','TransactionDate','TransactionTime']\n",
    "categorical = ['CustGender','CustomerID','CustLocation']"
   ]
  },
  {
   "cell_type": "code",
   "execution_count": 113,
   "id": "99c87e5b-ca67-4ff3-bf70-31c43e873ea6",
   "metadata": {},
   "outputs": [
    {
     "data": {
      "text/plain": [
       "(56292, 10)"
      ]
     },
     "execution_count": 113,
     "metadata": {},
     "output_type": "execute_result"
    }
   ],
   "source": [
    "data[data['Age']  >200].shape"
   ]
  },
  {
   "cell_type": "code",
   "execution_count": 114,
   "id": "52f5bfd8-03d6-43a0-8c5d-c3f46b745d96",
   "metadata": {},
   "outputs": [],
   "source": [
    "data = data[data[\"CustGender\"]!='T']"
   ]
  },
  {
   "cell_type": "code",
   "execution_count": 115,
   "id": "28c5bad5-2ae9-42ba-a949-fbbff763aa5f",
   "metadata": {},
   "outputs": [],
   "source": [
    "week_day = ['Mon','Tue','Wed','Thu','Fri','Sat','Sun']"
   ]
  },
  {
   "cell_type": "code",
   "execution_count": 116,
   "id": "1809cb22-4d95-4f93-b2d7-bc0d58dfd3d2",
   "metadata": {},
   "outputs": [],
   "source": [
    "data['TransactionDay'] = data['TransactionTime'].apply(time.ctime)\n",
    "data['tr_year']        = data['TransactionDate'].apply(lambda x : x.year)\n",
    "data['tr_month']       = data['TransactionDate'].apply(lambda x : x.month)\n",
    "data['tr_day']         = data['TransactionDate'].apply(lambda x : x.day)\n",
    "data['tr_weekday']     = data['TransactionDate'].apply(lambda x : week_day[pd.Timestamp(x).dayofweek])"
   ]
  },
  {
   "cell_type": "code",
   "execution_count": 117,
   "id": "4d453f3a-4b5f-4824-b913-0428e7f701e0",
   "metadata": {},
   "outputs": [],
   "source": [
    "hh=[int(datetime.datetime.fromtimestamp(i).strftime(\"%H\")) for i in data.TransactionTime.values]\n",
    "data['hr BY hr'] = hh"
   ]
  },
  {
   "cell_type": "code",
   "execution_count": 118,
   "id": "b8b73b9f-8518-48b5-959c-df3db55657f1",
   "metadata": {},
   "outputs": [],
   "source": [
    "time = []\n",
    "for i in hh:\n",
    "    if i >=0 and i < 13:\n",
    "        time.append(\"Morning\")\n",
    "    elif i >= 13 and i<=17:\n",
    "        time.append(\"Afternoon\")\n",
    "    elif i > 17 and i <= 19:\n",
    "        time.append(\"Evening\")\n",
    "    elif i > 19:\n",
    "        time.append(\"Night\")\n",
    "data['tr_pr'] = time"
   ]
  },
  {
   "cell_type": "code",
   "execution_count": 119,
   "id": "85a38c8f-818a-4af3-851a-2e771432f3e9",
   "metadata": {},
   "outputs": [],
   "source": [
    "data['tr_ratio'] = data['TransactionAmount (INR)'] *100 / (data['CustAccountBalance']+0.01)"
   ]
  },
  {
   "cell_type": "code",
   "execution_count": 120,
   "id": "1558f90d-de37-4a45-ab04-a04412f05e08",
   "metadata": {},
   "outputs": [],
   "source": [
    "le = preprocessing.LabelEncoder()\n",
    "  \n",
    "data['CustGender']= le.fit_transform(data['CustGender'])\n",
    "data['CustLocation']= le.fit_transform(data['CustLocation'])\n",
    "data['tr_pr']= le.fit_transform(data['tr_pr'])\n",
    "data['tr_weekday']= le.fit_transform(data['tr_weekday'])\n",
    " "
   ]
  },
  {
   "cell_type": "code",
   "execution_count": 121,
   "id": "cf77cd2d-ae31-4b3a-8dc9-450968d3e1f8",
   "metadata": {},
   "outputs": [],
   "source": [
    "data = data.drop(['TransactionID','CustomerID','CustomerDOB','TransactionDate','TransactionTime', 'TransactionDay'],axis=1)"
   ]
  },
  {
   "cell_type": "code",
   "execution_count": 122,
   "id": "9f34f8ad-8463-466d-9b78-011c5c4b55d5",
   "metadata": {},
   "outputs": [],
   "source": [
    "data = data.drop(data[data['TransactionAmount (INR)'] == 0].index,axis = 0)"
   ]
  },
  {
   "cell_type": "code",
   "execution_count": 123,
   "id": "30b1d08b-940b-47fd-a294-65b17ff41318",
   "metadata": {},
   "outputs": [],
   "source": [
    "columns_name =data.columns"
   ]
  },
  {
   "cell_type": "code",
   "execution_count": 125,
   "id": "70d07fd9-a5c1-4771-a8b7-00cbc38e0e52",
   "metadata": {},
   "outputs": [
    {
     "data": {
      "text/html": [
       "<div>\n",
       "<style scoped>\n",
       "    .dataframe tbody tr th:only-of-type {\n",
       "        vertical-align: middle;\n",
       "    }\n",
       "\n",
       "    .dataframe tbody tr th {\n",
       "        vertical-align: top;\n",
       "    }\n",
       "\n",
       "    .dataframe thead th {\n",
       "        text-align: right;\n",
       "    }\n",
       "</style>\n",
       "<table border=\"1\" class=\"dataframe\">\n",
       "  <thead>\n",
       "    <tr style=\"text-align: right;\">\n",
       "      <th></th>\n",
       "      <th>CustGender</th>\n",
       "      <th>CustLocation</th>\n",
       "      <th>CustAccountBalance</th>\n",
       "      <th>TransactionAmount (INR)</th>\n",
       "      <th>Age</th>\n",
       "      <th>tr_year</th>\n",
       "      <th>tr_month</th>\n",
       "      <th>tr_day</th>\n",
       "      <th>tr_weekday</th>\n",
       "      <th>hr BY hr</th>\n",
       "      <th>tr_pr</th>\n",
       "      <th>tr_ratio</th>\n",
       "    </tr>\n",
       "  </thead>\n",
       "  <tbody>\n",
       "    <tr>\n",
       "      <th>0</th>\n",
       "      <td>-1.646425</td>\n",
       "      <td>-0.223738</td>\n",
       "      <td>-0.114717</td>\n",
       "      <td>-0.234970</td>\n",
       "      <td>-0.370752</td>\n",
       "      <td>0.0</td>\n",
       "      <td>-0.771889</td>\n",
       "      <td>-1.341525</td>\n",
       "      <td>1.021644</td>\n",
       "      <td>0.702597</td>\n",
       "      <td>-1.802404</td>\n",
       "      <td>-0.017138</td>\n",
       "    </tr>\n",
       "    <tr>\n",
       "      <th>1</th>\n",
       "      <td>0.607376</td>\n",
       "      <td>-0.197927</td>\n",
       "      <td>-0.133086</td>\n",
       "      <td>4.026871</td>\n",
       "      <td>0.198221</td>\n",
       "      <td>0.0</td>\n",
       "      <td>-0.771889</td>\n",
       "      <td>-1.341525</td>\n",
       "      <td>1.021644</td>\n",
       "      <td>0.702597</td>\n",
       "      <td>-1.802404</td>\n",
       "      <td>-0.016812</td>\n",
       "    </tr>\n",
       "    <tr>\n",
       "      <th>2</th>\n",
       "      <td>-1.646425</td>\n",
       "      <td>0.479512</td>\n",
       "      <td>-0.114652</td>\n",
       "      <td>-0.168850</td>\n",
       "      <td>-0.416885</td>\n",
       "      <td>0.0</td>\n",
       "      <td>-0.771889</td>\n",
       "      <td>-1.341525</td>\n",
       "      <td>1.021644</td>\n",
       "      <td>0.702597</td>\n",
       "      <td>-1.802404</td>\n",
       "      <td>-0.017137</td>\n",
       "    </tr>\n",
       "    <tr>\n",
       "      <th>3</th>\n",
       "      <td>-1.646425</td>\n",
       "      <td>0.479512</td>\n",
       "      <td>0.887937</td>\n",
       "      <td>0.075063</td>\n",
       "      <td>-0.063199</td>\n",
       "      <td>0.0</td>\n",
       "      <td>-0.771889</td>\n",
       "      <td>-1.341525</td>\n",
       "      <td>1.021644</td>\n",
       "      <td>0.702597</td>\n",
       "      <td>-1.802404</td>\n",
       "      <td>-0.017138</td>\n",
       "    </tr>\n",
       "    <tr>\n",
       "      <th>4</th>\n",
       "      <td>-1.646425</td>\n",
       "      <td>0.643265</td>\n",
       "      <td>-0.127836</td>\n",
       "      <td>0.029739</td>\n",
       "      <td>-0.278486</td>\n",
       "      <td>0.0</td>\n",
       "      <td>-0.771889</td>\n",
       "      <td>-1.341525</td>\n",
       "      <td>1.021644</td>\n",
       "      <td>-1.296590</td>\n",
       "      <td>0.351364</td>\n",
       "      <td>-0.017131</td>\n",
       "    </tr>\n",
       "  </tbody>\n",
       "</table>\n",
       "</div>"
      ],
      "text/plain": [
       "   CustGender  CustLocation  CustAccountBalance  TransactionAmount (INR)  \\\n",
       "0   -1.646425     -0.223738           -0.114717                -0.234970   \n",
       "1    0.607376     -0.197927           -0.133086                 4.026871   \n",
       "2   -1.646425      0.479512           -0.114652                -0.168850   \n",
       "3   -1.646425      0.479512            0.887937                 0.075063   \n",
       "4   -1.646425      0.643265           -0.127836                 0.029739   \n",
       "\n",
       "        Age  tr_year  tr_month    tr_day  tr_weekday  hr BY hr     tr_pr  \\\n",
       "0 -0.370752      0.0 -0.771889 -1.341525    1.021644  0.702597 -1.802404   \n",
       "1  0.198221      0.0 -0.771889 -1.341525    1.021644  0.702597 -1.802404   \n",
       "2 -0.416885      0.0 -0.771889 -1.341525    1.021644  0.702597 -1.802404   \n",
       "3 -0.063199      0.0 -0.771889 -1.341525    1.021644  0.702597 -1.802404   \n",
       "4 -0.278486      0.0 -0.771889 -1.341525    1.021644 -1.296590  0.351364   \n",
       "\n",
       "   tr_ratio  \n",
       "0 -0.017138  \n",
       "1 -0.016812  \n",
       "2 -0.017137  \n",
       "3 -0.017138  \n",
       "4 -0.017131  "
      ]
     },
     "execution_count": 125,
     "metadata": {},
     "output_type": "execute_result"
    }
   ],
   "source": [
    "s = StandardScaler()\n",
    "data = s.fit_transform(data)\n",
    "data = pd.DataFrame(data,columns=columns_name)\n",
    "data.head()"
   ]
  },
  {
   "cell_type": "code",
   "execution_count": 126,
   "id": "ba241e3e-2f2d-4ebb-87e0-94658644756b",
   "metadata": {},
   "outputs": [],
   "source": [
    "data.to_csv('gs://fraud-processed-data/bank_transactions_processed.csv', index =False)"
   ]
  }
 ],
 "metadata": {
  "kernelspec": {
   "display_name": "Python 3 (ipykernel)",
   "language": "python",
   "name": "python3"
  },
  "language_info": {
   "codemirror_mode": {
    "name": "ipython",
    "version": 3
   },
   "file_extension": ".py",
   "mimetype": "text/x-python",
   "name": "python",
   "nbconvert_exporter": "python",
   "pygments_lexer": "ipython3",
   "version": "3.7.12"
  }
 },
 "nbformat": 4,
 "nbformat_minor": 5
}
