{
 "cells": [
  {
   "cell_type": "code",
   "execution_count": 4,
   "id": "8cd771df-2415-42de-b374-2c669e66a24a",
   "metadata": {},
   "outputs": [
    {
     "name": "stderr",
     "output_type": "stream",
     "text": [
      "/opt/conda/lib/python3.7/site-packages/_distutils_hack/__init__.py:33: UserWarning: Setuptools is replacing distutils.\n",
      "  warnings.warn(\"Setuptools is replacing distutils.\")\n",
      "WARNING: pip is being invoked by an old script wrapper. This will fail in a future version of pip.\n",
      "Please see https://github.com/pypa/pip/issues/5599 for advice on fixing the underlying issue.\n",
      "To avoid this problem you can invoke Python with '-m pip' instead of running pip directly.\n"
     ]
    },
    {
     "data": {
      "text/html": [
       "<pre style=\"white-space:pre;overflow-x:auto;line-height:normal;font-family:Menlo,'DejaVu Sans Mono',consolas,'Courier New',monospace\">Collecting yellowbrick\n",
       "</pre>\n"
      ],
      "text/plain": [
       "Collecting yellowbrick\n"
      ]
     },
     "metadata": {},
     "output_type": "display_data"
    },
    {
     "data": {
      "text/html": [
       "<pre style=\"white-space:pre;overflow-x:auto;line-height:normal;font-family:Menlo,'DejaVu Sans Mono',consolas,'Courier New',monospace\">  Downloading yellowbrick-1.5-py3-none-any.whl (282 kB)\n",
       "</pre>\n"
      ],
      "text/plain": [
       "  Downloading yellowbrick-1.5-py3-none-any.whl (282 kB)\n"
      ]
     },
     "metadata": {},
     "output_type": "display_data"
    },
    {
     "data": {
      "application/vnd.jupyter.widget-view+json": {
       "model_id": "9b64160fd8f14646a2322c2365c51bc3",
       "version_major": 2,
       "version_minor": 0
      },
      "text/plain": [
       "Output()"
      ]
     },
     "metadata": {},
     "output_type": "display_data"
    },
    {
     "data": {
      "text/html": [
       "<pre style=\"white-space:pre;overflow-x:auto;line-height:normal;font-family:Menlo,'DejaVu Sans Mono',consolas,'Courier New',monospace\"></pre>\n"
      ],
      "text/plain": []
     },
     "metadata": {},
     "output_type": "display_data"
    },
    {
     "data": {
      "text/html": [
       "<pre style=\"white-space:pre;overflow-x:auto;line-height:normal;font-family:Menlo,'DejaVu Sans Mono',consolas,'Courier New',monospace\">\n",
       "</pre>\n"
      ],
      "text/plain": [
       "\n"
      ]
     },
     "metadata": {},
     "output_type": "display_data"
    },
    {
     "data": {
      "text/html": [
       "<pre style=\"white-space:pre;overflow-x:auto;line-height:normal;font-family:Menlo,'DejaVu Sans Mono',consolas,'Courier New',monospace\">Requirement already satisfied: matplotlib!=3.0.0,&gt;=2.0.2 in /opt/conda/lib/python3.7/site-packages (from yellowbrick) (3.5.3)\n",
       "</pre>\n"
      ],
      "text/plain": [
       "Requirement already satisfied: matplotlib!=3.0.0,>=2.0.2 in /opt/conda/lib/python3.7/site-packages (from yellowbrick) (3.5.3)\n"
      ]
     },
     "metadata": {},
     "output_type": "display_data"
    },
    {
     "data": {
      "text/html": [
       "<pre style=\"white-space:pre;overflow-x:auto;line-height:normal;font-family:Menlo,'DejaVu Sans Mono',consolas,'Courier New',monospace\">Requirement already satisfied: scipy&gt;=1.0.0 in /opt/conda/lib/python3.7/site-packages (from yellowbrick) (1.7.3)\n",
       "</pre>\n"
      ],
      "text/plain": [
       "Requirement already satisfied: scipy>=1.0.0 in /opt/conda/lib/python3.7/site-packages (from yellowbrick) (1.7.3)\n"
      ]
     },
     "metadata": {},
     "output_type": "display_data"
    },
    {
     "data": {
      "text/html": [
       "<pre style=\"white-space:pre;overflow-x:auto;line-height:normal;font-family:Menlo,'DejaVu Sans Mono',consolas,'Courier New',monospace\">Requirement already satisfied: scikit-learn&gt;=1.0.0 in /opt/conda/lib/python3.7/site-packages (from yellowbrick) (1.0.2)\n",
       "</pre>\n"
      ],
      "text/plain": [
       "Requirement already satisfied: scikit-learn>=1.0.0 in /opt/conda/lib/python3.7/site-packages (from yellowbrick) (1.0.2)\n"
      ]
     },
     "metadata": {},
     "output_type": "display_data"
    },
    {
     "data": {
      "text/html": [
       "<pre style=\"white-space:pre;overflow-x:auto;line-height:normal;font-family:Menlo,'DejaVu Sans Mono',consolas,'Courier New',monospace\">Requirement already satisfied: numpy&gt;=1.16.0 in /opt/conda/lib/python3.7/site-packages (from yellowbrick) (1.21.6)\n",
       "</pre>\n"
      ],
      "text/plain": [
       "Requirement already satisfied: numpy>=1.16.0 in /opt/conda/lib/python3.7/site-packages (from yellowbrick) (1.21.6)\n"
      ]
     },
     "metadata": {},
     "output_type": "display_data"
    },
    {
     "data": {
      "text/html": [
       "<pre style=\"white-space:pre;overflow-x:auto;line-height:normal;font-family:Menlo,'DejaVu Sans Mono',consolas,'Courier New',monospace\">Requirement already satisfied: cycler&gt;=0.10.0 in /opt/conda/lib/python3.7/site-packages (from yellowbrick) (0.11.0)\n",
       "</pre>\n"
      ],
      "text/plain": [
       "Requirement already satisfied: cycler>=0.10.0 in /opt/conda/lib/python3.7/site-packages (from yellowbrick) (0.11.0)\n"
      ]
     },
     "metadata": {},
     "output_type": "display_data"
    },
    {
     "data": {
      "text/html": [
       "<pre style=\"white-space:pre;overflow-x:auto;line-height:normal;font-family:Menlo,'DejaVu Sans Mono',consolas,'Courier New',monospace\">Requirement already satisfied: fonttools&gt;=4.22.0 in /opt/conda/lib/python3.7/site-packages (from matplotlib!=3.0.0,&gt;=2.0.2-&gt;yellowbrick) (4.38.0)\n",
       "</pre>\n"
      ],
      "text/plain": [
       "Requirement already satisfied: fonttools>=4.22.0 in /opt/conda/lib/python3.7/site-packages (from matplotlib!=3.0.0,>=2.0.2->yellowbrick) (4.38.0)\n"
      ]
     },
     "metadata": {},
     "output_type": "display_data"
    },
    {
     "data": {
      "text/html": [
       "<pre style=\"white-space:pre;overflow-x:auto;line-height:normal;font-family:Menlo,'DejaVu Sans Mono',consolas,'Courier New',monospace\">Requirement already satisfied: kiwisolver&gt;=1.0.1 in /opt/conda/lib/python3.7/site-packages (from matplotlib!=3.0.0,&gt;=2.0.2-&gt;yellowbrick) (1.4.4)\n",
       "</pre>\n"
      ],
      "text/plain": [
       "Requirement already satisfied: kiwisolver>=1.0.1 in /opt/conda/lib/python3.7/site-packages (from matplotlib!=3.0.0,>=2.0.2->yellowbrick) (1.4.4)\n"
      ]
     },
     "metadata": {},
     "output_type": "display_data"
    },
    {
     "data": {
      "text/html": [
       "<pre style=\"white-space:pre;overflow-x:auto;line-height:normal;font-family:Menlo,'DejaVu Sans Mono',consolas,'Courier New',monospace\">Requirement already satisfied: packaging&gt;=20.0 in /opt/conda/lib/python3.7/site-packages (from matplotlib!=3.0.0,&gt;=2.0.2-&gt;yellowbrick) (23.1)\n",
       "</pre>\n"
      ],
      "text/plain": [
       "Requirement already satisfied: packaging>=20.0 in /opt/conda/lib/python3.7/site-packages (from matplotlib!=3.0.0,>=2.0.2->yellowbrick) (23.1)\n"
      ]
     },
     "metadata": {},
     "output_type": "display_data"
    },
    {
     "data": {
      "text/html": [
       "<pre style=\"white-space:pre;overflow-x:auto;line-height:normal;font-family:Menlo,'DejaVu Sans Mono',consolas,'Courier New',monospace\">Requirement already satisfied: pillow&gt;=6.2.0 in /opt/conda/lib/python3.7/site-packages (from matplotlib!=3.0.0,&gt;=2.0.2-&gt;yellowbrick) (9.5.0)\n",
       "</pre>\n"
      ],
      "text/plain": [
       "Requirement already satisfied: pillow>=6.2.0 in /opt/conda/lib/python3.7/site-packages (from matplotlib!=3.0.0,>=2.0.2->yellowbrick) (9.5.0)\n"
      ]
     },
     "metadata": {},
     "output_type": "display_data"
    },
    {
     "data": {
      "text/html": [
       "<pre style=\"white-space:pre;overflow-x:auto;line-height:normal;font-family:Menlo,'DejaVu Sans Mono',consolas,'Courier New',monospace\">Requirement already satisfied: pyparsing&gt;=2.2.1 in /opt/conda/lib/python3.7/site-packages (from matplotlib!=3.0.0,&gt;=2.0.2-&gt;yellowbrick) (3.0.9)\n",
       "</pre>\n"
      ],
      "text/plain": [
       "Requirement already satisfied: pyparsing>=2.2.1 in /opt/conda/lib/python3.7/site-packages (from matplotlib!=3.0.0,>=2.0.2->yellowbrick) (3.0.9)\n"
      ]
     },
     "metadata": {},
     "output_type": "display_data"
    },
    {
     "data": {
      "text/html": [
       "<pre style=\"white-space:pre;overflow-x:auto;line-height:normal;font-family:Menlo,'DejaVu Sans Mono',consolas,'Courier New',monospace\">Requirement already satisfied: python-dateutil&gt;=2.7 in /opt/conda/lib/python3.7/site-packages (from matplotlib!=3.0.0,&gt;=2.0.2-&gt;yellowbrick) (2.8.2)\n",
       "</pre>\n"
      ],
      "text/plain": [
       "Requirement already satisfied: python-dateutil>=2.7 in /opt/conda/lib/python3.7/site-packages (from matplotlib!=3.0.0,>=2.0.2->yellowbrick) (2.8.2)\n"
      ]
     },
     "metadata": {},
     "output_type": "display_data"
    },
    {
     "data": {
      "text/html": [
       "<pre style=\"white-space:pre;overflow-x:auto;line-height:normal;font-family:Menlo,'DejaVu Sans Mono',consolas,'Courier New',monospace\">Requirement already satisfied: joblib&gt;=0.11 in /opt/conda/lib/python3.7/site-packages (from scikit-learn&gt;=1.0.0-&gt;yellowbrick) (1.2.0)\n",
       "</pre>\n"
      ],
      "text/plain": [
       "Requirement already satisfied: joblib>=0.11 in /opt/conda/lib/python3.7/site-packages (from scikit-learn>=1.0.0->yellowbrick) (1.2.0)\n"
      ]
     },
     "metadata": {},
     "output_type": "display_data"
    },
    {
     "data": {
      "text/html": [
       "<pre style=\"white-space:pre;overflow-x:auto;line-height:normal;font-family:Menlo,'DejaVu Sans Mono',consolas,'Courier New',monospace\">Requirement already satisfied: threadpoolctl&gt;=2.0.0 in /opt/conda/lib/python3.7/site-packages (from scikit-learn&gt;=1.0.0-&gt;yellowbrick) (3.1.0)\n",
       "</pre>\n"
      ],
      "text/plain": [
       "Requirement already satisfied: threadpoolctl>=2.0.0 in /opt/conda/lib/python3.7/site-packages (from scikit-learn>=1.0.0->yellowbrick) (3.1.0)\n"
      ]
     },
     "metadata": {},
     "output_type": "display_data"
    },
    {
     "data": {
      "text/html": [
       "<pre style=\"white-space:pre;overflow-x:auto;line-height:normal;font-family:Menlo,'DejaVu Sans Mono',consolas,'Courier New',monospace\">Requirement already satisfied: typing-extensions in /opt/conda/lib/python3.7/site-packages (from kiwisolver&gt;=1.0.1-&gt;matplotlib!=3.0.0,&gt;=2.0.2-&gt;yellowbrick) (4.6.3)\n",
       "</pre>\n"
      ],
      "text/plain": [
       "Requirement already satisfied: typing-extensions in /opt/conda/lib/python3.7/site-packages (from kiwisolver>=1.0.1->matplotlib!=3.0.0,>=2.0.2->yellowbrick) (4.6.3)\n"
      ]
     },
     "metadata": {},
     "output_type": "display_data"
    },
    {
     "data": {
      "text/html": [
       "<pre style=\"white-space:pre;overflow-x:auto;line-height:normal;font-family:Menlo,'DejaVu Sans Mono',consolas,'Courier New',monospace\">Requirement already satisfied: six&gt;=1.5 in /opt/conda/lib/python3.7/site-packages (from python-dateutil&gt;=2.7-&gt;matplotlib!=3.0.0,&gt;=2.0.2-&gt;yellowbrick) (1.16.0)\n",
       "</pre>\n"
      ],
      "text/plain": [
       "Requirement already satisfied: six>=1.5 in /opt/conda/lib/python3.7/site-packages (from python-dateutil>=2.7->matplotlib!=3.0.0,>=2.0.2->yellowbrick) (1.16.0)\n"
      ]
     },
     "metadata": {},
     "output_type": "display_data"
    },
    {
     "data": {
      "text/html": [
       "<pre style=\"white-space:pre;overflow-x:auto;line-height:normal;font-family:Menlo,'DejaVu Sans Mono',consolas,'Courier New',monospace\">Installing collected packages: yellowbrick\n",
       "</pre>\n"
      ],
      "text/plain": [
       "Installing collected packages: yellowbrick\n"
      ]
     },
     "metadata": {},
     "output_type": "display_data"
    },
    {
     "data": {
      "text/html": [
       "<pre style=\"white-space:pre;overflow-x:auto;line-height:normal;font-family:Menlo,'DejaVu Sans Mono',consolas,'Courier New',monospace\">Successfully installed yellowbrick-1.5\n",
       "</pre>\n"
      ],
      "text/plain": [
       "Successfully installed yellowbrick-1.5\n"
      ]
     },
     "metadata": {},
     "output_type": "display_data"
    },
    {
     "data": {
      "text/html": [
       "<pre style=\"white-space:pre;overflow-x:auto;line-height:normal;font-family:Menlo,'DejaVu Sans Mono',consolas,'Courier New',monospace\"><span style=\"color: #808000; text-decoration-color: #808000\">WARNING: Running pip as the 'root' user can result in broken permissions and conflicting behaviour with the system package manager. It is recommended to use a virtual environment instead: https://pip.pypa.io/warnings/venv\n",
       "</span></pre>\n"
      ],
      "text/plain": [
       "\u001b[33mWARNING: Running pip as the 'root' user can result in broken permissions and conflicting behaviour with the system package manager. It is recommended to use a virtual environment instead: https://pip.pypa.io/warnings/venv\u001b[0m\u001b[33m\n",
       "\u001b[0m"
      ]
     },
     "metadata": {},
     "output_type": "display_data"
    },
    {
     "data": {
      "text/plain": [
       "0"
      ]
     },
     "execution_count": 4,
     "metadata": {},
     "output_type": "execute_result"
    }
   ],
   "source": [
    "import pip\n",
    "pip.main([\"install\", \"yellowbrick\"])"
   ]
  },
  {
   "cell_type": "code",
   "execution_count": 8,
   "id": "5aa3bdf0-64f3-4464-9db2-e8b58cd4c989",
   "metadata": {},
   "outputs": [],
   "source": [
    "import numpy as np \n",
    "import pandas as pd \n",
    "import seaborn as sns\n",
    "import matplotlib.pyplot as plt \n",
    "import datetime\n",
    "import time\n",
    "from sklearn import preprocessing\n",
    "from sklearn.preprocessing import StandardScaler\n",
    "import random\n",
    "from yellowbrick.cluster import KElbowVisualizer\n",
    "from sklearn.cluster import KMeans,DBSCAN"
   ]
  },
  {
   "cell_type": "code",
   "execution_count": 6,
   "id": "a0ad46fe-b2ac-49e9-acdb-ec158c8eb98b",
   "metadata": {},
   "outputs": [],
   "source": [
    "data = pd.read_csv('gs://fraud-processed-data/bank_transactions_processed.csv')"
   ]
  },
  {
   "cell_type": "code",
   "execution_count": 17,
   "id": "02b3aa54-d2fe-4755-9da9-6afdbd68e7ed",
   "metadata": {},
   "outputs": [],
   "source": [
    "model = KMeans(init = 'k-means++', random_state = 42)\n",
    "\n",
    "visualizer = KElbowVisualizer(model, k=(2,30))\n",
    "visualizer2 = KElbowVisualizer(model, k=(2,30))"
   ]
  },
  {
   "cell_type": "code",
   "execution_count": 18,
   "id": "20d26ff4-13a8-467d-98f6-8e3bfabc4734",
   "metadata": {},
   "outputs": [
    {
     "data": {
      "text/html": [
       "<div>\n",
       "<style scoped>\n",
       "    .dataframe tbody tr th:only-of-type {\n",
       "        vertical-align: middle;\n",
       "    }\n",
       "\n",
       "    .dataframe tbody tr th {\n",
       "        vertical-align: top;\n",
       "    }\n",
       "\n",
       "    .dataframe thead th {\n",
       "        text-align: right;\n",
       "    }\n",
       "</style>\n",
       "<table border=\"1\" class=\"dataframe\">\n",
       "  <thead>\n",
       "    <tr style=\"text-align: right;\">\n",
       "      <th></th>\n",
       "      <th>CustGender</th>\n",
       "      <th>CustLocation</th>\n",
       "      <th>CustAccountBalance</th>\n",
       "      <th>TransactionAmount (INR)</th>\n",
       "      <th>Age</th>\n",
       "      <th>tr_year</th>\n",
       "      <th>tr_month</th>\n",
       "      <th>tr_day</th>\n",
       "      <th>tr_weekday</th>\n",
       "      <th>hr BY hr</th>\n",
       "      <th>tr_pr</th>\n",
       "      <th>tr_ratio</th>\n",
       "    </tr>\n",
       "  </thead>\n",
       "  <tbody>\n",
       "    <tr>\n",
       "      <th>0</th>\n",
       "      <td>-1.646425</td>\n",
       "      <td>-0.223738</td>\n",
       "      <td>-0.114717</td>\n",
       "      <td>-0.234970</td>\n",
       "      <td>-0.370752</td>\n",
       "      <td>0.0</td>\n",
       "      <td>-0.771889</td>\n",
       "      <td>-1.341525</td>\n",
       "      <td>1.021644</td>\n",
       "      <td>0.702597</td>\n",
       "      <td>-1.802404</td>\n",
       "      <td>-0.017138</td>\n",
       "    </tr>\n",
       "    <tr>\n",
       "      <th>1</th>\n",
       "      <td>0.607376</td>\n",
       "      <td>-0.197927</td>\n",
       "      <td>-0.133086</td>\n",
       "      <td>4.026871</td>\n",
       "      <td>0.198221</td>\n",
       "      <td>0.0</td>\n",
       "      <td>-0.771889</td>\n",
       "      <td>-1.341525</td>\n",
       "      <td>1.021644</td>\n",
       "      <td>0.702597</td>\n",
       "      <td>-1.802404</td>\n",
       "      <td>-0.016812</td>\n",
       "    </tr>\n",
       "    <tr>\n",
       "      <th>2</th>\n",
       "      <td>-1.646425</td>\n",
       "      <td>0.479512</td>\n",
       "      <td>-0.114652</td>\n",
       "      <td>-0.168850</td>\n",
       "      <td>-0.416885</td>\n",
       "      <td>0.0</td>\n",
       "      <td>-0.771889</td>\n",
       "      <td>-1.341525</td>\n",
       "      <td>1.021644</td>\n",
       "      <td>0.702597</td>\n",
       "      <td>-1.802404</td>\n",
       "      <td>-0.017137</td>\n",
       "    </tr>\n",
       "    <tr>\n",
       "      <th>3</th>\n",
       "      <td>-1.646425</td>\n",
       "      <td>0.479512</td>\n",
       "      <td>0.887937</td>\n",
       "      <td>0.075063</td>\n",
       "      <td>-0.063199</td>\n",
       "      <td>0.0</td>\n",
       "      <td>-0.771889</td>\n",
       "      <td>-1.341525</td>\n",
       "      <td>1.021644</td>\n",
       "      <td>0.702597</td>\n",
       "      <td>-1.802404</td>\n",
       "      <td>-0.017138</td>\n",
       "    </tr>\n",
       "    <tr>\n",
       "      <th>4</th>\n",
       "      <td>-1.646425</td>\n",
       "      <td>0.643265</td>\n",
       "      <td>-0.127836</td>\n",
       "      <td>0.029739</td>\n",
       "      <td>-0.278486</td>\n",
       "      <td>0.0</td>\n",
       "      <td>-0.771889</td>\n",
       "      <td>-1.341525</td>\n",
       "      <td>1.021644</td>\n",
       "      <td>-1.296590</td>\n",
       "      <td>0.351364</td>\n",
       "      <td>-0.017131</td>\n",
       "    </tr>\n",
       "    <tr>\n",
       "      <th>...</th>\n",
       "      <td>...</td>\n",
       "      <td>...</td>\n",
       "      <td>...</td>\n",
       "      <td>...</td>\n",
       "      <td>...</td>\n",
       "      <td>...</td>\n",
       "      <td>...</td>\n",
       "      <td>...</td>\n",
       "      <td>...</td>\n",
       "      <td>...</td>\n",
       "      <td>...</td>\n",
       "      <td>...</td>\n",
       "    </tr>\n",
       "    <tr>\n",
       "      <th>1040788</th>\n",
       "      <td>0.607376</td>\n",
       "      <td>0.699119</td>\n",
       "      <td>-0.126749</td>\n",
       "      <td>-0.117051</td>\n",
       "      <td>-0.309242</td>\n",
       "      <td>0.0</td>\n",
       "      <td>1.258178</td>\n",
       "      <td>0.538548</td>\n",
       "      <td>-0.004360</td>\n",
       "      <td>-1.142806</td>\n",
       "      <td>0.351364</td>\n",
       "      <td>-0.017135</td>\n",
       "    </tr>\n",
       "    <tr>\n",
       "      <th>1040789</th>\n",
       "      <td>0.607376</td>\n",
       "      <td>0.632264</td>\n",
       "      <td>-0.103503</td>\n",
       "      <td>-0.168697</td>\n",
       "      <td>-0.339997</td>\n",
       "      <td>0.0</td>\n",
       "      <td>1.258178</td>\n",
       "      <td>0.538548</td>\n",
       "      <td>-0.004360</td>\n",
       "      <td>-1.142806</td>\n",
       "      <td>0.351364</td>\n",
       "      <td>-0.017137</td>\n",
       "    </tr>\n",
       "    <tr>\n",
       "      <th>1040790</th>\n",
       "      <td>0.607376</td>\n",
       "      <td>-0.304134</td>\n",
       "      <td>0.126220</td>\n",
       "      <td>-0.121469</td>\n",
       "      <td>-0.293864</td>\n",
       "      <td>0.0</td>\n",
       "      <td>1.258178</td>\n",
       "      <td>0.538548</td>\n",
       "      <td>-0.004360</td>\n",
       "      <td>-1.296590</td>\n",
       "      <td>0.351364</td>\n",
       "      <td>-0.017138</td>\n",
       "    </tr>\n",
       "    <tr>\n",
       "      <th>1040791</th>\n",
       "      <td>0.607376</td>\n",
       "      <td>2.104350</td>\n",
       "      <td>-0.123816</td>\n",
       "      <td>-0.086428</td>\n",
       "      <td>-0.124710</td>\n",
       "      <td>0.0</td>\n",
       "      <td>1.258178</td>\n",
       "      <td>0.538548</td>\n",
       "      <td>-0.004360</td>\n",
       "      <td>-1.142806</td>\n",
       "      <td>0.351364</td>\n",
       "      <td>-0.017135</td>\n",
       "    </tr>\n",
       "    <tr>\n",
       "      <th>1040792</th>\n",
       "      <td>0.607376</td>\n",
       "      <td>1.087557</td>\n",
       "      <td>-0.046295</td>\n",
       "      <td>-0.061138</td>\n",
       "      <td>-0.216976</td>\n",
       "      <td>0.0</td>\n",
       "      <td>1.258178</td>\n",
       "      <td>0.538548</td>\n",
       "      <td>-0.004360</td>\n",
       "      <td>-1.296590</td>\n",
       "      <td>0.351364</td>\n",
       "      <td>-0.017137</td>\n",
       "    </tr>\n",
       "  </tbody>\n",
       "</table>\n",
       "<p>1040793 rows × 12 columns</p>\n",
       "</div>"
      ],
      "text/plain": [
       "         CustGender  CustLocation  CustAccountBalance  \\\n",
       "0         -1.646425     -0.223738           -0.114717   \n",
       "1          0.607376     -0.197927           -0.133086   \n",
       "2         -1.646425      0.479512           -0.114652   \n",
       "3         -1.646425      0.479512            0.887937   \n",
       "4         -1.646425      0.643265           -0.127836   \n",
       "...             ...           ...                 ...   \n",
       "1040788    0.607376      0.699119           -0.126749   \n",
       "1040789    0.607376      0.632264           -0.103503   \n",
       "1040790    0.607376     -0.304134            0.126220   \n",
       "1040791    0.607376      2.104350           -0.123816   \n",
       "1040792    0.607376      1.087557           -0.046295   \n",
       "\n",
       "         TransactionAmount (INR)       Age  tr_year  tr_month    tr_day  \\\n",
       "0                      -0.234970 -0.370752      0.0 -0.771889 -1.341525   \n",
       "1                       4.026871  0.198221      0.0 -0.771889 -1.341525   \n",
       "2                      -0.168850 -0.416885      0.0 -0.771889 -1.341525   \n",
       "3                       0.075063 -0.063199      0.0 -0.771889 -1.341525   \n",
       "4                       0.029739 -0.278486      0.0 -0.771889 -1.341525   \n",
       "...                          ...       ...      ...       ...       ...   \n",
       "1040788                -0.117051 -0.309242      0.0  1.258178  0.538548   \n",
       "1040789                -0.168697 -0.339997      0.0  1.258178  0.538548   \n",
       "1040790                -0.121469 -0.293864      0.0  1.258178  0.538548   \n",
       "1040791                -0.086428 -0.124710      0.0  1.258178  0.538548   \n",
       "1040792                -0.061138 -0.216976      0.0  1.258178  0.538548   \n",
       "\n",
       "         tr_weekday  hr BY hr     tr_pr  tr_ratio  \n",
       "0          1.021644  0.702597 -1.802404 -0.017138  \n",
       "1          1.021644  0.702597 -1.802404 -0.016812  \n",
       "2          1.021644  0.702597 -1.802404 -0.017137  \n",
       "3          1.021644  0.702597 -1.802404 -0.017138  \n",
       "4          1.021644 -1.296590  0.351364 -0.017131  \n",
       "...             ...       ...       ...       ...  \n",
       "1040788   -0.004360 -1.142806  0.351364 -0.017135  \n",
       "1040789   -0.004360 -1.142806  0.351364 -0.017137  \n",
       "1040790   -0.004360 -1.296590  0.351364 -0.017138  \n",
       "1040791   -0.004360 -1.142806  0.351364 -0.017135  \n",
       "1040792   -0.004360 -1.296590  0.351364 -0.017137  \n",
       "\n",
       "[1040793 rows x 12 columns]"
      ]
     },
     "execution_count": 18,
     "metadata": {},
     "output_type": "execute_result"
    }
   ],
   "source": [
    "data"
   ]
  },
  {
   "cell_type": "code",
   "execution_count": 19,
   "id": "17f35c36-49f3-4729-8fc1-5b35deaa6a09",
   "metadata": {},
   "outputs": [],
   "source": [
    "X = data[['Age','TransactionAmount (INR)']].values\n",
    "Y = data[['CustLocation','TransactionAmount (INR)']].values"
   ]
  },
  {
   "cell_type": "code",
   "execution_count": null,
   "id": "f8fcecce-82b8-4910-9666-d4970836f034",
   "metadata": {},
   "outputs": [],
   "source": [
    "visualizer.fit(X)\n",
    "visualizer.show()"
   ]
  },
  {
   "cell_type": "code",
   "execution_count": null,
   "id": "69639288-eb03-4548-9a3a-b8c62fcefb38",
   "metadata": {},
   "outputs": [],
   "source": [
    "kmeans_x = KMeans(n_clusters = 8, init = 'k-means++', random_state = 42)\n",
    "x_kmeans = kmeans_x.fit_predict(X)"
   ]
  },
  {
   "cell_type": "code",
   "execution_count": null,
   "id": "5dd2168a-0ae9-4958-b3f7-9771513c976c",
   "metadata": {},
   "outputs": [],
   "source": [
    "visualizer2.fit(Y)\n",
    "visualizer2.show()"
   ]
  },
  {
   "cell_type": "code",
   "execution_count": null,
   "id": "6eae603a-f3ba-4642-9a3b-dd74b594facc",
   "metadata": {},
   "outputs": [],
   "source": [
    "kmeans_y = KMeans(n_clusters = 8, init = 'k-means++', random_state = 42)\n",
    "y_kmeans = kmeans_y.fit_predict(Y)"
   ]
  },
  {
   "cell_type": "code",
   "execution_count": null,
   "id": "989a5203-deea-496f-8f3c-92eb86fed12a",
   "metadata": {},
   "outputs": [],
   "source": [
    "centroids_x = kmeans_x.cluster_centers_\n",
    "centroids_y = kmeans_y.cluster_centers_\n",
    "\n",
    "print(centroids_x,centroids_y)"
   ]
  },
  {
   "cell_type": "code",
   "execution_count": null,
   "id": "24c8fcd9-c052-42ec-abb0-dfd631d107bf",
   "metadata": {},
   "outputs": [],
   "source": [
    "data['cluster_age_km'] = x_kmeans\n",
    "data['cluster_location_km'] = y_kmeans\n",
    "df.head()"
   ]
  },
  {
   "cell_type": "code",
   "execution_count": null,
   "id": "a4bef980-3f2f-4e17-983a-af47d7a5823e",
   "metadata": {},
   "outputs": [],
   "source": [
    "cen_xx = [i[0] for i in centroids_x] \n",
    "cen_xy = [i[1] for i in centroids_x]\n",
    "\n",
    "cen_yx = [i[0] for i in centroids_y] \n",
    "cen_yy = [i[1] for i in centroids_y]\n",
    "\n",
    "## add to df\n",
    "data['cen_xx'] = data.cluster_age_km.map({0:cen_xx[0], 1:cen_xx[1], 2:cen_xx[2],3:cen_xx[3], 4:cen_xx[4], 5:cen_xx[5],6:cen_xx[6], 7:cen_xx[7]})\n",
    "data['cen_xy'] = data.cluster_age_km.map({0:cen_xy[0], 1:cen_xy[1], 2:cen_xy[2],3:cen_xy[3], 4:cen_xy[4], 5:cen_xy[5],6:cen_xy[6], 7:cen_xy[7]})\n",
    "\n",
    "data['cen_yx'] = data.cluster_location_km.map({0:cen_yx[0], 1:cen_yx[1], 2:cen_yx[2],3:cen_yx[3], 4:cen_yx[4], 5:cen_yx[5],6:cen_yx[6], 7:cen_yx[7]})\n",
    "data['cen_yy'] = data.cluster_location_km.map({0:cen_yy[0], 1:cen_yy[1], 2:cen_yy[2],3:cen_yy[3], 4:cen_yy[4], 5:cen_yy[5],6:cen_yy[6], 7:cen_yy[7]})\n",
    "\n",
    "# define and map colors\n",
    "colors = ['red', 'yellow', 'grey', 'green','blue','orange','pink','brown']\n",
    "data['color_age_km'] = df.cluster_age_km.map({0:colors[0], 1:colors[1], 2:colors[2],3:colors[3],4:colors[4],5:colors[5],6:colors[6],7:colors[7]})\n",
    "data['color_location_km'] = df.cluster_location_km.map({0:colors[0], 1:colors[1], 2:colors[2],3:colors[3],4:colors[4],5:colors[5],6:colors[6],7:colors[7]})"
   ]
  },
  {
   "cell_type": "code",
   "execution_count": null,
   "id": "2c92f5f2-7928-4e46-af44-fe3b9ddf6b75",
   "metadata": {},
   "outputs": [],
   "source": [
    "plt.figure(num=None, figsize=(20, 20), facecolor='w', edgecolor='k')\n",
    "plt.scatter(data['Age'], data['TransactionAmount (INR)'], c=df.color_age_km)\n",
    "plt.scatter(data['cen_xx'], data['cen_xy'],marker = '*',s=500, c='black')\n",
    "plt.ylim([-0.5, 20])"
   ]
  },
  {
   "cell_type": "code",
   "execution_count": null,
   "id": "d72406d5-e308-4492-b35b-1b516c687e76",
   "metadata": {},
   "outputs": [],
   "source": [
    "plt.figure(num=None, figsize=(20, 30), facecolor='w', edgecolor='k')\n",
    "plt.scatter(data['CustLocation'], data['TransactionAmount (INR)'], c=df.color_location_km)\n",
    "plt.scatter(data['cen_yx'], data['cen_yy'],marker = '*',s=500, c='black')\n",
    "plt.ylim([-0.5, 20])"
   ]
  },
  {
   "cell_type": "code",
   "execution_count": null,
   "id": "05113e2d-7d45-42ec-bea5-906f149981a0",
   "metadata": {},
   "outputs": [],
   "source": []
  }
 ],
 "metadata": {
  "kernelspec": {
   "display_name": "Python 3 (ipykernel)",
   "language": "python",
   "name": "python3"
  },
  "language_info": {
   "codemirror_mode": {
    "name": "ipython",
    "version": 3
   },
   "file_extension": ".py",
   "mimetype": "text/x-python",
   "name": "python",
   "nbconvert_exporter": "python",
   "pygments_lexer": "ipython3",
   "version": "3.7.12"
  }
 },
 "nbformat": 4,
 "nbformat_minor": 5
}
